{
  "nbformat": 4,
  "nbformat_minor": 0,
  "metadata": {
    "colab": {
      "provenance": [],
      "authorship_tag": "ABX9TyOjF6gtsrpNBJVGyV3CBh/N",
      "include_colab_link": true
    },
    "kernelspec": {
      "name": "python3",
      "display_name": "Python 3"
    },
    "language_info": {
      "name": "python"
    }
  },
  "cells": [
    {
      "cell_type": "markdown",
      "metadata": {
        "id": "view-in-github",
        "colab_type": "text"
      },
      "source": [
        "<a href=\"https://colab.research.google.com/github/Jit687/10-Essential-Excel-Formulas/blob/main/ReshapehStackArray.ipynb\" target=\"_parent\"><img src=\"https://colab.research.google.com/assets/colab-badge.svg\" alt=\"Open In Colab\"/></a>"
      ]
    },
    {
      "cell_type": "code",
      "execution_count": 1,
      "metadata": {
        "colab": {
          "base_uri": "https://localhost:8080/"
        },
        "id": "fwXfZwm_JlvW",
        "outputId": "43ffa854-08ef-4cb0-fa6d-c8dd48b6691f"
      },
      "outputs": [
        {
          "output_type": "stream",
          "name": "stdout",
          "text": [
            "The expected apple yield is: 56.8 tons per hectare.\n"
          ]
        }
      ],
      "source": [
        "import numpy as np\n",
        "\n",
        "# Climate data for the Kanto region (temperature, rainfall, humidity)\n",
        "climate_data = np.array([73, 67, 43])\n",
        "\n",
        "# Assigned weights based on historical data (impact factors)\n",
        "weights = np.array([0.3, 0.2, 0.5])\n",
        "\n",
        "# Calculate yield using the dot product formula\n",
        "predicted_yield = np.dot(climate_data, weights)\n",
        "\n",
        "print(f\"The expected apple yield is: {predicted_yield} tons per hectare.\")\n"
      ]
    },
    {
      "cell_type": "code",
      "source": [
        "import numpy as np\n",
        "\n",
        "# Climate data for the kanto region, temp, rainfall, humidity\n",
        "climate_data = np.array([[93, 88, 73]])\n",
        "\n",
        "# Assigned weights based on historical data\n",
        "weights = np.array([0.1, 0.1, 0.3])\n",
        "\n",
        "# Calculate yield using the dot product formula\n",
        "predicted_yield = np.dot(climate_data, weights)\n",
        "print(f\"The expected apple yield is: {predicted_yield[0]} tons per hectare.\")\n",
        "\n",
        ""
      ],
      "metadata": {
        "colab": {
          "base_uri": "https://localhost:8080/"
        },
        "id": "tbDo02d9KDsK",
        "outputId": "8e24c6ec-8f8c-4f66-e6b7-8fc564d368d7"
      },
      "execution_count": 2,
      "outputs": [
        {
          "output_type": "stream",
          "name": "stdout",
          "text": [
            "The expected apple yield is: 40.0 tons per hectare.\n"
          ]
        }
      ]
    },
    {
      "cell_type": "code",
      "source": [
        "import numpy as np\n",
        "\n",
        "# Climate data from two different regions\n",
        "climate_data1 = np.array([[73, 67, 43]])\n",
        "climate_data2 = np.array([[91, 88, 64]])\n",
        "\n",
        "# join the arrays horizontally\n",
        "merged_data = np.concatenate((climate_data1, climate_data2))\n",
        "\n",
        "print(\"Joined Climate Data\", merged_data)"
      ],
      "metadata": {
        "colab": {
          "base_uri": "https://localhost:8080/"
        },
        "id": "0KlPDGQRPMw7",
        "outputId": "524e1a7d-b723-46ae-f5fe-0e21fee3e8f1"
      },
      "execution_count": 3,
      "outputs": [
        {
          "output_type": "stream",
          "name": "stdout",
          "text": [
            "Joined Climate Data [[73 67 43]\n",
            " [91 88 64]]\n"
          ]
        }
      ]
    },
    {
      "cell_type": "code",
      "source": [
        "climate_data = np.array([[73, 67, 43]])\n",
        "weights = np.array([0.3, 0.2, 0.5])\n",
        "\n",
        "# Calculate yield using the dot product formula\n",
        "predicted_yield = np.dot(climate_data, weights)\n",
        "print(f\"The expected apple yield is: {predicted_yield[0]} tons per hectare.\")"
      ],
      "metadata": {
        "colab": {
          "base_uri": "https://localhost:8080/"
        },
        "id": "jjEuntPXlpQC",
        "outputId": "19fc317e-da78-45a0-b3b1-8f33b2be27ac"
      },
      "execution_count": 4,
      "outputs": [
        {
          "output_type": "stream",
          "name": "stdout",
          "text": [
            "The expected apple yield is: 56.8 tons per hectare.\n"
          ]
        }
      ]
    },
    {
      "cell_type": "code",
      "source": [
        "import numpy as np\n",
        "\n",
        "climate_data1 = np.array([[73, 67, 43]]) # Region 1\n",
        "climate_data2 = np.array([[91, 88, 64]]) # Region 2\n",
        "# Horizontally joining (axis=1)\n",
        "horizontal = np.concatenate((climate_data1, climate_data2), axis=1)\n",
        "# Vertically joining (axis=0)\n",
        "vertical = np.concatenate((climate_data1, climate_data2), axis=0)\n",
        "\n",
        "print(\"Joined Climate Data Horizontal):\", horizontal)\n",
        "print(\"Joined Climate Data Vertical):\", vertical)\n"
      ],
      "metadata": {
        "colab": {
          "base_uri": "https://localhost:8080/"
        },
        "id": "Bl_pSa19PMjD",
        "outputId": "38d254e8-a51c-4d0f-9e6f-9dabd73dcfbb"
      },
      "execution_count": 5,
      "outputs": [
        {
          "output_type": "stream",
          "name": "stdout",
          "text": [
            "Joined Climate Data Horizontal): [[73 67 43 91 88 64]]\n",
            "Joined Climate Data Vertical): [[73 67 43]\n",
            " [91 88 64]]\n"
          ]
        }
      ]
    },
    {
      "cell_type": "code",
      "source": [
        "import numpy as np\n",
        "\n",
        "climate_dataA = np.array([[63, 49, 52]]) # Region 1\n",
        "climate_dataB = np.array([[71, 66, 59]]) # Region 2\n",
        "# Horizantally joining (axis=1)\n",
        "horizontal = np.hstack((climate_dataA, climate_dataB))\n",
        "# Vertically joining (axis=0)\n",
        "vertical = np.vstack((climate_dataA, climate_dataB))\n",
        "print(\"hstack Climate Data (Horizontal):\", horizontal)\n",
        "print(\"vstack Climate Data (Vertical):\", vertical)"
      ],
      "metadata": {
        "colab": {
          "base_uri": "https://localhost:8080/"
        },
        "id": "zUlYQhXtVNf2",
        "outputId": "ecec99e8-9081-4c5a-af11-2725ae8e1e93"
      },
      "execution_count": 6,
      "outputs": [
        {
          "output_type": "stream",
          "name": "stdout",
          "text": [
            "hstack Climate Data (Horizontal): [[63 49 52 71 66 59]]\n",
            "vstack Climate Data (Vertical): [[63 49 52]\n",
            " [71 66 59]]\n"
          ]
        }
      ]
    },
    {
      "cell_type": "code",
      "source": [
        "import numpy as np\n",
        "\n",
        "arr = np.array([1, 2, 3, 4, 5, 6, 7, 8, 9, 10, 11, 12])\n",
        "reshaped_arr = arr.reshape(4, 3)\n",
        "\n",
        "print(\"Reshaped Array:\\n\", reshaped_arr)"
      ],
      "metadata": {
        "colab": {
          "base_uri": "https://localhost:8080/"
        },
        "id": "XT9St-uxrDjU",
        "outputId": "a714a927-6f10-42a8-c8ff-dee3bcb6d88b"
      },
      "execution_count": 7,
      "outputs": [
        {
          "output_type": "stream",
          "name": "stdout",
          "text": [
            "Reshaped Array:\n",
            " [[ 1  2  3]\n",
            " [ 4  5  6]\n",
            " [ 7  8  9]\n",
            " [10 11 12]]\n"
          ]
        }
      ]
    },
    {
      "cell_type": "code",
      "source": [
        "import numpy as np\n",
        "\n",
        "matrix = np.array([[7, 8, 9],\n",
        "                   [4, 5, 6],\n",
        "                   [7, 8, 9]])\n",
        "flattened_matrix = matrix.flatten()\n",
        "\n",
        "print(\"Flattened Matrix:\\n\", flattened_matrix)\n",
        "\n",
        "# Transpose the matrix\n",
        "transposed_matrix = matrix.T\n",
        "\n",
        "print(\"Transposed Matrix:\\n\", transposed_matrix)"
      ],
      "metadata": {
        "colab": {
          "base_uri": "https://localhost:8080/"
        },
        "id": "REC9EgbbsMaf",
        "outputId": "7ef89822-d9be-4d44-991c-f9858b298244"
      },
      "execution_count": 13,
      "outputs": [
        {
          "output_type": "stream",
          "name": "stdout",
          "text": [
            "Flattened Matrix:\n",
            " [7 8 9 4 5 6 7 8 9]\n",
            "Transposed Matrix:\n",
            " [[7 4 7]\n",
            " [8 5 8]\n",
            " [9 6 9]]\n"
          ]
        }
      ]
    },
    {
      "cell_type": "code",
      "source": [],
      "metadata": {
        "id": "C5WsgTnZvF-V"
      },
      "execution_count": null,
      "outputs": []
    }
  ]
}